{
 "cells": [
  {
   "cell_type": "markdown",
   "id": "64f73a23",
   "metadata": {
    "papermill": {
     "duration": 0.007345,
     "end_time": "2023-09-01T10:58:28.044978",
     "exception": false,
     "start_time": "2023-09-01T10:58:28.037633",
     "status": "completed"
    },
    "tags": []
   },
   "source": [
    "<h2>Concrete Strength Prediction using Neural Networks\n",
    " \n",
    "<h5>In this Notebook, I'll use Neural Networks to predict the strength of samples of concrete from a dataset available publicly on Kaggle. My goal is to test out different models of neural networks, with different numbers of hidden layers and different training periods (epochs), and see how the performance of each version of the model compares to each other."
   ]
  },
  {
   "cell_type": "code",
   "execution_count": 1,
   "id": "d87f1572",
   "metadata": {
    "_cell_guid": "b1076dfc-b9ad-4769-8c92-a6c4dae69d19",
    "_uuid": "8f2839f25d086af736a60e9eeb907d3b93b6e0e5",
    "execution": {
     "iopub.execute_input": "2023-09-01T10:58:28.061366Z",
     "iopub.status.busy": "2023-09-01T10:58:28.061008Z",
     "iopub.status.idle": "2023-09-01T10:58:38.974279Z",
     "shell.execute_reply": "2023-09-01T10:58:38.972567Z"
    },
    "papermill": {
     "duration": 10.923697,
     "end_time": "2023-09-01T10:58:38.976613",
     "exception": false,
     "start_time": "2023-09-01T10:58:28.052916",
     "status": "completed"
    },
    "tags": []
   },
   "outputs": [
    {
     "name": "stdout",
     "output_type": "stream",
     "text": [
      "/kaggle/input/concrete-data/04-Concrete_Data_V1.0 (1).csv\n"
     ]
    }
   ],
   "source": [
    "import numpy as np\n",
    "import pandas as pd\n",
    "from sklearn.model_selection import train_test_split\n",
    "from sklearn.metrics import mean_squared_error as mse\n",
    "from keras.models import Sequential\n",
    "from keras.layers import Dense\n",
    "import statistics\n",
    "import matplotlib.pyplot as plt\n",
    "\n",
    "import os\n",
    "for dirname, _, filenames in os.walk('/kaggle/input'):\n",
    "    for filename in filenames:\n",
    "        print(os.path.join(dirname, filename))"
   ]
  },
  {
   "cell_type": "code",
   "execution_count": 2,
   "id": "419b52df",
   "metadata": {
    "execution": {
     "iopub.execute_input": "2023-09-01T10:58:38.990522Z",
     "iopub.status.busy": "2023-09-01T10:58:38.989896Z",
     "iopub.status.idle": "2023-09-01T10:58:39.007501Z",
     "shell.execute_reply": "2023-09-01T10:58:39.006769Z"
    },
    "papermill": {
     "duration": 0.027035,
     "end_time": "2023-09-01T10:58:39.009891",
     "exception": false,
     "start_time": "2023-09-01T10:58:38.982856",
     "status": "completed"
    },
    "tags": []
   },
   "outputs": [],
   "source": [
    "concrete_data = pd.read_csv('/kaggle/input/concrete-data/04-Concrete_Data_V1.0 (1).csv')"
   ]
  },
  {
   "cell_type": "code",
   "execution_count": 3,
   "id": "37b48d4c",
   "metadata": {
    "execution": {
     "iopub.execute_input": "2023-09-01T10:58:39.024463Z",
     "iopub.status.busy": "2023-09-01T10:58:39.023148Z",
     "iopub.status.idle": "2023-09-01T10:58:39.029130Z",
     "shell.execute_reply": "2023-09-01T10:58:39.028086Z"
    },
    "papermill": {
     "duration": 0.014964,
     "end_time": "2023-09-01T10:58:39.031079",
     "exception": false,
     "start_time": "2023-09-01T10:58:39.016115",
     "status": "completed"
    },
    "tags": []
   },
   "outputs": [],
   "source": [
    "# Rename columns for consistency\n",
    "concrete_data.columns = ['Cement', 'Blast Furnace Slag', 'Fly Ash', 'Water', 'Superplasticizer', 'Coarse Aggregate', 'Fine Aggregate', 'Age', 'Strength']"
   ]
  },
  {
   "cell_type": "code",
   "execution_count": 4,
   "id": "e0d4bb9c",
   "metadata": {
    "execution": {
     "iopub.execute_input": "2023-09-01T10:58:39.044609Z",
     "iopub.status.busy": "2023-09-01T10:58:39.044005Z",
     "iopub.status.idle": "2023-09-01T10:58:39.070254Z",
     "shell.execute_reply": "2023-09-01T10:58:39.069629Z"
    },
    "papermill": {
     "duration": 0.034963,
     "end_time": "2023-09-01T10:58:39.072054",
     "exception": false,
     "start_time": "2023-09-01T10:58:39.037091",
     "status": "completed"
    },
    "tags": []
   },
   "outputs": [
    {
     "data": {
      "text/html": [
       "<div>\n",
       "<style scoped>\n",
       "    .dataframe tbody tr th:only-of-type {\n",
       "        vertical-align: middle;\n",
       "    }\n",
       "\n",
       "    .dataframe tbody tr th {\n",
       "        vertical-align: top;\n",
       "    }\n",
       "\n",
       "    .dataframe thead th {\n",
       "        text-align: right;\n",
       "    }\n",
       "</style>\n",
       "<table border=\"1\" class=\"dataframe\">\n",
       "  <thead>\n",
       "    <tr style=\"text-align: right;\">\n",
       "      <th></th>\n",
       "      <th>Cement</th>\n",
       "      <th>Blast Furnace Slag</th>\n",
       "      <th>Fly Ash</th>\n",
       "      <th>Water</th>\n",
       "      <th>Superplasticizer</th>\n",
       "      <th>Coarse Aggregate</th>\n",
       "      <th>Fine Aggregate</th>\n",
       "      <th>Age</th>\n",
       "      <th>Strength</th>\n",
       "    </tr>\n",
       "  </thead>\n",
       "  <tbody>\n",
       "    <tr>\n",
       "      <th>0</th>\n",
       "      <td>540.0</td>\n",
       "      <td>0.0</td>\n",
       "      <td>0.0</td>\n",
       "      <td>162.0</td>\n",
       "      <td>2.5</td>\n",
       "      <td>1040.0</td>\n",
       "      <td>676.0</td>\n",
       "      <td>28</td>\n",
       "      <td>79.99</td>\n",
       "    </tr>\n",
       "    <tr>\n",
       "      <th>1</th>\n",
       "      <td>540.0</td>\n",
       "      <td>0.0</td>\n",
       "      <td>0.0</td>\n",
       "      <td>162.0</td>\n",
       "      <td>2.5</td>\n",
       "      <td>1055.0</td>\n",
       "      <td>676.0</td>\n",
       "      <td>28</td>\n",
       "      <td>61.89</td>\n",
       "    </tr>\n",
       "    <tr>\n",
       "      <th>2</th>\n",
       "      <td>332.5</td>\n",
       "      <td>142.5</td>\n",
       "      <td>0.0</td>\n",
       "      <td>228.0</td>\n",
       "      <td>0.0</td>\n",
       "      <td>932.0</td>\n",
       "      <td>594.0</td>\n",
       "      <td>270</td>\n",
       "      <td>40.27</td>\n",
       "    </tr>\n",
       "    <tr>\n",
       "      <th>3</th>\n",
       "      <td>332.5</td>\n",
       "      <td>142.5</td>\n",
       "      <td>0.0</td>\n",
       "      <td>228.0</td>\n",
       "      <td>0.0</td>\n",
       "      <td>932.0</td>\n",
       "      <td>594.0</td>\n",
       "      <td>365</td>\n",
       "      <td>41.05</td>\n",
       "    </tr>\n",
       "    <tr>\n",
       "      <th>4</th>\n",
       "      <td>198.6</td>\n",
       "      <td>132.4</td>\n",
       "      <td>0.0</td>\n",
       "      <td>192.0</td>\n",
       "      <td>0.0</td>\n",
       "      <td>978.4</td>\n",
       "      <td>825.5</td>\n",
       "      <td>360</td>\n",
       "      <td>44.30</td>\n",
       "    </tr>\n",
       "  </tbody>\n",
       "</table>\n",
       "</div>"
      ],
      "text/plain": [
       "   Cement  Blast Furnace Slag  Fly Ash  Water  Superplasticizer  \\\n",
       "0   540.0                 0.0      0.0  162.0               2.5   \n",
       "1   540.0                 0.0      0.0  162.0               2.5   \n",
       "2   332.5               142.5      0.0  228.0               0.0   \n",
       "3   332.5               142.5      0.0  228.0               0.0   \n",
       "4   198.6               132.4      0.0  192.0               0.0   \n",
       "\n",
       "   Coarse Aggregate  Fine Aggregate  Age  Strength  \n",
       "0            1040.0           676.0   28     79.99  \n",
       "1            1055.0           676.0   28     61.89  \n",
       "2             932.0           594.0  270     40.27  \n",
       "3             932.0           594.0  365     41.05  \n",
       "4             978.4           825.5  360     44.30  "
      ]
     },
     "execution_count": 4,
     "metadata": {},
     "output_type": "execute_result"
    }
   ],
   "source": [
    "concrete_data.head()"
   ]
  },
  {
   "cell_type": "code",
   "execution_count": 5,
   "id": "b4c0d26d",
   "metadata": {
    "execution": {
     "iopub.execute_input": "2023-09-01T10:58:39.086296Z",
     "iopub.status.busy": "2023-09-01T10:58:39.085209Z",
     "iopub.status.idle": "2023-09-01T10:58:39.126699Z",
     "shell.execute_reply": "2023-09-01T10:58:39.125194Z"
    },
    "papermill": {
     "duration": 0.051211,
     "end_time": "2023-09-01T10:58:39.129475",
     "exception": false,
     "start_time": "2023-09-01T10:58:39.078264",
     "status": "completed"
    },
    "tags": []
   },
   "outputs": [
    {
     "data": {
      "text/html": [
       "<div>\n",
       "<style scoped>\n",
       "    .dataframe tbody tr th:only-of-type {\n",
       "        vertical-align: middle;\n",
       "    }\n",
       "\n",
       "    .dataframe tbody tr th {\n",
       "        vertical-align: top;\n",
       "    }\n",
       "\n",
       "    .dataframe thead th {\n",
       "        text-align: right;\n",
       "    }\n",
       "</style>\n",
       "<table border=\"1\" class=\"dataframe\">\n",
       "  <thead>\n",
       "    <tr style=\"text-align: right;\">\n",
       "      <th></th>\n",
       "      <th>Cement</th>\n",
       "      <th>Blast Furnace Slag</th>\n",
       "      <th>Fly Ash</th>\n",
       "      <th>Water</th>\n",
       "      <th>Superplasticizer</th>\n",
       "      <th>Coarse Aggregate</th>\n",
       "      <th>Fine Aggregate</th>\n",
       "      <th>Age</th>\n",
       "      <th>Strength</th>\n",
       "    </tr>\n",
       "  </thead>\n",
       "  <tbody>\n",
       "    <tr>\n",
       "      <th>count</th>\n",
       "      <td>1030.000000</td>\n",
       "      <td>1030.000000</td>\n",
       "      <td>1030.000000</td>\n",
       "      <td>1030.000000</td>\n",
       "      <td>1030.000000</td>\n",
       "      <td>1030.000000</td>\n",
       "      <td>1030.000000</td>\n",
       "      <td>1030.000000</td>\n",
       "      <td>1030.000000</td>\n",
       "    </tr>\n",
       "    <tr>\n",
       "      <th>mean</th>\n",
       "      <td>281.167864</td>\n",
       "      <td>73.895825</td>\n",
       "      <td>54.188350</td>\n",
       "      <td>181.567282</td>\n",
       "      <td>6.204660</td>\n",
       "      <td>972.918932</td>\n",
       "      <td>773.580485</td>\n",
       "      <td>45.662136</td>\n",
       "      <td>35.817961</td>\n",
       "    </tr>\n",
       "    <tr>\n",
       "      <th>std</th>\n",
       "      <td>104.506364</td>\n",
       "      <td>86.279342</td>\n",
       "      <td>63.997004</td>\n",
       "      <td>21.354219</td>\n",
       "      <td>5.973841</td>\n",
       "      <td>77.753954</td>\n",
       "      <td>80.175980</td>\n",
       "      <td>63.169912</td>\n",
       "      <td>16.705742</td>\n",
       "    </tr>\n",
       "    <tr>\n",
       "      <th>min</th>\n",
       "      <td>102.000000</td>\n",
       "      <td>0.000000</td>\n",
       "      <td>0.000000</td>\n",
       "      <td>121.800000</td>\n",
       "      <td>0.000000</td>\n",
       "      <td>801.000000</td>\n",
       "      <td>594.000000</td>\n",
       "      <td>1.000000</td>\n",
       "      <td>2.330000</td>\n",
       "    </tr>\n",
       "    <tr>\n",
       "      <th>25%</th>\n",
       "      <td>192.375000</td>\n",
       "      <td>0.000000</td>\n",
       "      <td>0.000000</td>\n",
       "      <td>164.900000</td>\n",
       "      <td>0.000000</td>\n",
       "      <td>932.000000</td>\n",
       "      <td>730.950000</td>\n",
       "      <td>7.000000</td>\n",
       "      <td>23.710000</td>\n",
       "    </tr>\n",
       "    <tr>\n",
       "      <th>50%</th>\n",
       "      <td>272.900000</td>\n",
       "      <td>22.000000</td>\n",
       "      <td>0.000000</td>\n",
       "      <td>185.000000</td>\n",
       "      <td>6.400000</td>\n",
       "      <td>968.000000</td>\n",
       "      <td>779.500000</td>\n",
       "      <td>28.000000</td>\n",
       "      <td>34.445000</td>\n",
       "    </tr>\n",
       "    <tr>\n",
       "      <th>75%</th>\n",
       "      <td>350.000000</td>\n",
       "      <td>142.950000</td>\n",
       "      <td>118.300000</td>\n",
       "      <td>192.000000</td>\n",
       "      <td>10.200000</td>\n",
       "      <td>1029.400000</td>\n",
       "      <td>824.000000</td>\n",
       "      <td>56.000000</td>\n",
       "      <td>46.135000</td>\n",
       "    </tr>\n",
       "    <tr>\n",
       "      <th>max</th>\n",
       "      <td>540.000000</td>\n",
       "      <td>359.400000</td>\n",
       "      <td>200.100000</td>\n",
       "      <td>247.000000</td>\n",
       "      <td>32.200000</td>\n",
       "      <td>1145.000000</td>\n",
       "      <td>992.600000</td>\n",
       "      <td>365.000000</td>\n",
       "      <td>82.600000</td>\n",
       "    </tr>\n",
       "  </tbody>\n",
       "</table>\n",
       "</div>"
      ],
      "text/plain": [
       "            Cement  Blast Furnace Slag      Fly Ash        Water  \\\n",
       "count  1030.000000         1030.000000  1030.000000  1030.000000   \n",
       "mean    281.167864           73.895825    54.188350   181.567282   \n",
       "std     104.506364           86.279342    63.997004    21.354219   \n",
       "min     102.000000            0.000000     0.000000   121.800000   \n",
       "25%     192.375000            0.000000     0.000000   164.900000   \n",
       "50%     272.900000           22.000000     0.000000   185.000000   \n",
       "75%     350.000000          142.950000   118.300000   192.000000   \n",
       "max     540.000000          359.400000   200.100000   247.000000   \n",
       "\n",
       "       Superplasticizer  Coarse Aggregate  Fine Aggregate          Age  \\\n",
       "count       1030.000000       1030.000000     1030.000000  1030.000000   \n",
       "mean           6.204660        972.918932      773.580485    45.662136   \n",
       "std            5.973841         77.753954       80.175980    63.169912   \n",
       "min            0.000000        801.000000      594.000000     1.000000   \n",
       "25%            0.000000        932.000000      730.950000     7.000000   \n",
       "50%            6.400000        968.000000      779.500000    28.000000   \n",
       "75%           10.200000       1029.400000      824.000000    56.000000   \n",
       "max           32.200000       1145.000000      992.600000   365.000000   \n",
       "\n",
       "          Strength  \n",
       "count  1030.000000  \n",
       "mean     35.817961  \n",
       "std      16.705742  \n",
       "min       2.330000  \n",
       "25%      23.710000  \n",
       "50%      34.445000  \n",
       "75%      46.135000  \n",
       "max      82.600000  "
      ]
     },
     "execution_count": 5,
     "metadata": {},
     "output_type": "execute_result"
    }
   ],
   "source": [
    "concrete_data.describe()"
   ]
  },
  {
   "cell_type": "code",
   "execution_count": 6,
   "id": "157692c9",
   "metadata": {
    "execution": {
     "iopub.execute_input": "2023-09-01T10:58:39.144286Z",
     "iopub.status.busy": "2023-09-01T10:58:39.143933Z",
     "iopub.status.idle": "2023-09-01T10:58:39.153432Z",
     "shell.execute_reply": "2023-09-01T10:58:39.151912Z"
    },
    "papermill": {
     "duration": 0.019822,
     "end_time": "2023-09-01T10:58:39.155917",
     "exception": false,
     "start_time": "2023-09-01T10:58:39.136095",
     "status": "completed"
    },
    "tags": []
   },
   "outputs": [
    {
     "data": {
      "text/plain": [
       "Cement                0\n",
       "Blast Furnace Slag    0\n",
       "Fly Ash               0\n",
       "Water                 0\n",
       "Superplasticizer      0\n",
       "Coarse Aggregate      0\n",
       "Fine Aggregate        0\n",
       "Age                   0\n",
       "Strength              0\n",
       "dtype: int64"
      ]
     },
     "execution_count": 6,
     "metadata": {},
     "output_type": "execute_result"
    }
   ],
   "source": [
    "concrete_data.isnull().sum()"
   ]
  },
  {
   "cell_type": "markdown",
   "id": "a682a3db",
   "metadata": {
    "papermill": {
     "duration": 0.006734,
     "end_time": "2023-09-01T10:58:39.170246",
     "exception": false,
     "start_time": "2023-09-01T10:58:39.163512",
     "status": "completed"
    },
    "tags": []
   },
   "source": [
    "So we see that the data is already pretty clean, and we can commence with our regression task and start by building the model. To re-iterate, this is a **regression** problem."
   ]
  },
  {
   "cell_type": "markdown",
   "id": "64a5c85f",
   "metadata": {
    "papermill": {
     "duration": 0.00635,
     "end_time": "2023-09-01T10:58:39.183215",
     "exception": false,
     "start_time": "2023-09-01T10:58:39.176865",
     "status": "completed"
    },
    "tags": []
   },
   "source": [
    "We'll start off by building a **Baseline Model**, so we'll build the neural network with **1 hidden layer** with **10 nodes**, a **ReLU activation function**, **adam** optimizer, and **mean squared error** as the loss function."
   ]
  },
  {
   "cell_type": "code",
   "execution_count": 7,
   "id": "d2644082",
   "metadata": {
    "execution": {
     "iopub.execute_input": "2023-09-01T10:58:39.198561Z",
     "iopub.status.busy": "2023-09-01T10:58:39.198171Z",
     "iopub.status.idle": "2023-09-01T10:58:39.205112Z",
     "shell.execute_reply": "2023-09-01T10:58:39.203866Z"
    },
    "papermill": {
     "duration": 0.017163,
     "end_time": "2023-09-01T10:58:39.207209",
     "exception": false,
     "start_time": "2023-09-01T10:58:39.190046",
     "status": "completed"
    },
    "tags": []
   },
   "outputs": [],
   "source": [
    "def regression_model_1():\n",
    "    # create model\n",
    "    model = Sequential()\n",
    "    model.add(Dense(10, activation='relu', input_shape=(n_cols,)))\n",
    "    model.add(Dense(1))\n",
    "    \n",
    "    # compile model\n",
    "    model.compile(optimizer='adam', loss='mean_squared_error')\n",
    "    return model"
   ]
  },
  {
   "cell_type": "markdown",
   "id": "ee491860",
   "metadata": {
    "papermill": {
     "duration": 0.006596,
     "end_time": "2023-09-01T10:58:39.220692",
     "exception": false,
     "start_time": "2023-09-01T10:58:39.214096",
     "status": "completed"
    },
    "tags": []
   },
   "source": [
    "We'll split the overall dataset in the train-test ratio 70:30, then we'll drop the 'Strength' column from both the train and test sets to produce the predictor and target features. Then we will fit the model on the training set, using the predictors to predict the target, then fit the trained model on the predictors from the test set. Lastly, we will calculate the MSE between the predicted values and the actual values."
   ]
  },
  {
   "cell_type": "code",
   "execution_count": 8,
   "id": "9e20fad3",
   "metadata": {
    "execution": {
     "iopub.execute_input": "2023-09-01T10:58:39.236195Z",
     "iopub.status.busy": "2023-09-01T10:58:39.235819Z",
     "iopub.status.idle": "2023-09-01T10:58:42.995290Z",
     "shell.execute_reply": "2023-09-01T10:58:42.994338Z"
    },
    "papermill": {
     "duration": 3.770109,
     "end_time": "2023-09-01T10:58:42.997288",
     "exception": false,
     "start_time": "2023-09-01T10:58:39.227179",
     "status": "completed"
    },
    "tags": []
   },
   "outputs": [
    {
     "name": "stdout",
     "output_type": "stream",
     "text": [
      "10/10 [==============================] - 0s 2ms/step\n"
     ]
    },
    {
     "data": {
      "text/plain": [
       "277.44676092946906"
      ]
     },
     "execution_count": 8,
     "metadata": {},
     "output_type": "execute_result"
    }
   ],
   "source": [
    "train, test = train_test_split(concrete_data, test_size = .30)\n",
    "train_predictors = train[train.columns[train.columns != 'Strength']]\n",
    "n_cols = train_predictors.shape[1]\n",
    "test_predictors = test[test.columns[test.columns != 'Strength']]\n",
    "train_target = train[['Strength']]\n",
    "test_target = test[['Strength']]\n",
    "model = regression_model_1()\n",
    "model.fit(train_predictors, train_target, epochs = 50, verbose = 0)\n",
    "Yhat = model.predict(test_predictors)\n",
    "mse_1 = mse(Yhat, test_target)\n",
    "mse_1"
   ]
  },
  {
   "cell_type": "markdown",
   "id": "2b0196ca",
   "metadata": {
    "papermill": {
     "duration": 0.006793,
     "end_time": "2023-09-01T10:58:43.011176",
     "exception": false,
     "start_time": "2023-09-01T10:58:43.004383",
     "status": "completed"
    },
    "tags": []
   },
   "source": [
    "Now, we'll repeat the steps above **50** times, and will try to obtain the **mean** and **standard deviation** of mean squared errors. At this point, we'll create an empty list to store the overall MSE means and standard deviations from each iteration of our model, this is will help us to visualise and compare performance."
   ]
  },
  {
   "cell_type": "code",
   "execution_count": 9,
   "id": "dc92978f",
   "metadata": {
    "execution": {
     "iopub.execute_input": "2023-09-01T10:58:43.027064Z",
     "iopub.status.busy": "2023-09-01T10:58:43.026518Z",
     "iopub.status.idle": "2023-09-01T10:58:43.031062Z",
     "shell.execute_reply": "2023-09-01T10:58:43.030004Z"
    },
    "papermill": {
     "duration": 0.014751,
     "end_time": "2023-09-01T10:58:43.032949",
     "exception": false,
     "start_time": "2023-09-01T10:58:43.018198",
     "status": "completed"
    },
    "tags": []
   },
   "outputs": [],
   "source": [
    "ovr_mean_mse = []\n",
    "ovr_standev_mse = []"
   ]
  },
  {
   "cell_type": "code",
   "execution_count": 10,
   "id": "86b7a7a1",
   "metadata": {
    "execution": {
     "iopub.execute_input": "2023-09-01T10:58:43.048739Z",
     "iopub.status.busy": "2023-09-01T10:58:43.048347Z",
     "iopub.status.idle": "2023-09-01T11:00:43.546699Z",
     "shell.execute_reply": "2023-09-01T11:00:43.546029Z"
    },
    "papermill": {
     "duration": 120.508689,
     "end_time": "2023-09-01T11:00:43.548795",
     "exception": false,
     "start_time": "2023-09-01T10:58:43.040106",
     "status": "completed"
    },
    "tags": []
   },
   "outputs": [
    {
     "name": "stdout",
     "output_type": "stream",
     "text": [
      "10/10 [==============================] - 0s 1ms/step\n",
      "Completed run 1\n",
      "10/10 [==============================] - 0s 2ms/step\n",
      "Completed run 2\n",
      "10/10 [==============================] - 0s 1ms/step\n",
      "Completed run 3\n",
      "10/10 [==============================] - 0s 1ms/step\n",
      "Completed run 4\n",
      "10/10 [==============================] - 0s 1ms/step\n",
      "Completed run 5\n",
      "10/10 [==============================] - 0s 1ms/step\n",
      "Completed run 6\n",
      "10/10 [==============================] - 0s 1ms/step\n",
      "Completed run 7\n",
      "10/10 [==============================] - 0s 1ms/step\n",
      "Completed run 8\n",
      "10/10 [==============================] - 0s 990us/step\n",
      "Completed run 9\n",
      "10/10 [==============================] - 0s 2ms/step\n",
      "Completed run 10\n",
      "10/10 [==============================] - 0s 1ms/step\n",
      "Completed run 11\n",
      "10/10 [==============================] - 0s 1ms/step\n",
      "Completed run 12\n",
      "10/10 [==============================] - 0s 1ms/step\n",
      "Completed run 13\n",
      "10/10 [==============================] - 0s 1ms/step\n",
      "Completed run 14\n",
      "10/10 [==============================] - 0s 1ms/step\n",
      "Completed run 15\n",
      "10/10 [==============================] - 0s 2ms/step\n",
      "Completed run 16\n",
      "10/10 [==============================] - 0s 1ms/step\n",
      "Completed run 17\n",
      "10/10 [==============================] - 0s 1ms/step\n",
      "Completed run 18\n",
      "10/10 [==============================] - 0s 988us/step\n",
      "Completed run 19\n",
      "10/10 [==============================] - 0s 1ms/step\n",
      "Completed run 20\n",
      "10/10 [==============================] - 0s 2ms/step\n",
      "Completed run 21\n",
      "10/10 [==============================] - 0s 1ms/step\n",
      "Completed run 22\n",
      "10/10 [==============================] - 0s 1ms/step\n",
      "Completed run 23\n",
      "10/10 [==============================] - 0s 1ms/step\n",
      "Completed run 24\n",
      "10/10 [==============================] - 0s 1ms/step\n",
      "Completed run 25\n",
      "10/10 [==============================] - 0s 1ms/step\n",
      "Completed run 26\n",
      "10/10 [==============================] - 0s 1ms/step\n",
      "Completed run 27\n",
      "10/10 [==============================] - 0s 1ms/step\n",
      "Completed run 28\n",
      "10/10 [==============================] - 0s 1ms/step\n",
      "Completed run 29\n",
      "10/10 [==============================] - 0s 2ms/step\n",
      "Completed run 30\n",
      "10/10 [==============================] - 0s 1ms/step\n",
      "Completed run 31\n",
      "10/10 [==============================] - 0s 1ms/step\n",
      "Completed run 32\n",
      "10/10 [==============================] - 0s 1ms/step\n",
      "Completed run 33\n",
      "10/10 [==============================] - 0s 2ms/step\n",
      "Completed run 34\n",
      "10/10 [==============================] - 0s 1ms/step\n",
      "Completed run 35\n",
      "10/10 [==============================] - 0s 1ms/step\n",
      "Completed run 36\n",
      "10/10 [==============================] - 0s 1ms/step\n",
      "Completed run 37\n",
      "10/10 [==============================] - 0s 1ms/step\n",
      "Completed run 38\n",
      "10/10 [==============================] - 0s 1ms/step\n",
      "Completed run 39\n",
      "10/10 [==============================] - 0s 1ms/step\n",
      "Completed run 40\n",
      "10/10 [==============================] - 0s 1ms/step\n",
      "Completed run 41\n",
      "10/10 [==============================] - 0s 1ms/step\n",
      "Completed run 42\n",
      "10/10 [==============================] - 0s 2ms/step\n",
      "Completed run 43\n",
      "10/10 [==============================] - 0s 1ms/step\n",
      "Completed run 44\n",
      "10/10 [==============================] - 0s 1ms/step\n",
      "Completed run 45\n",
      "10/10 [==============================] - 0s 1ms/step\n",
      "Completed run 46\n",
      "10/10 [==============================] - 0s 1ms/step\n",
      "Completed run 47\n",
      "10/10 [==============================] - 0s 1ms/step\n",
      "Completed run 48\n",
      "10/10 [==============================] - 0s 1ms/step\n",
      "Completed run 49\n",
      "10/10 [==============================] - 0s 1ms/step\n",
      "Completed run 50\n",
      "The mean of the MSE list is 289.49543108161373\n",
      "The standard deviation of the MSE list is 309.18549774526434\n"
     ]
    }
   ],
   "source": [
    "mse_list = []\n",
    "for i in range(1, 51):\n",
    "    train, test = train_test_split(concrete_data, test_size = .30)\n",
    "    train_predictors = train[train.columns[train.columns != 'Strength']]\n",
    "    n_cols = train_predictors.shape[1]\n",
    "    test_predictors = test[test.columns[test.columns != 'Strength']]\n",
    "    train_target = train[['Strength']]\n",
    "    test_target = test[['Strength']]\n",
    "    model = regression_model_1()\n",
    "    model.fit(train_predictors, train_target, epochs = 50, verbose = 0)\n",
    "    Yhat = model.predict(test_predictors)\n",
    "    mse_ = mse(Yhat, test_target)\n",
    "    mse_list.append(mse_)\n",
    "    print('Completed run {}'.format(i))\n",
    "\n",
    "print('The mean of the MSE list is {}'.format(statistics.mean(mse_list)))\n",
    "ovr_mean_mse.append(statistics.mean(mse_list))\n",
    "print('The standard deviation of the MSE list is {}'.format(statistics.stdev(mse_list)))\n",
    "ovr_standev_mse.append(statistics.stdev(mse_list))"
   ]
  },
  {
   "cell_type": "markdown",
   "id": "7d1b9c75",
   "metadata": {
    "papermill": {
     "duration": 0.015742,
     "end_time": "2023-09-01T11:00:43.580769",
     "exception": false,
     "start_time": "2023-09-01T11:00:43.565027",
     "status": "completed"
    },
    "tags": []
   },
   "source": [
    "Now, we wil use a normalized version of the data, and repeat the steps above."
   ]
  },
  {
   "cell_type": "code",
   "execution_count": 11,
   "id": "f4fbc23b",
   "metadata": {
    "execution": {
     "iopub.execute_input": "2023-09-01T11:00:43.615155Z",
     "iopub.status.busy": "2023-09-01T11:00:43.614494Z",
     "iopub.status.idle": "2023-09-01T11:02:39.658821Z",
     "shell.execute_reply": "2023-09-01T11:02:39.657468Z"
    },
    "papermill": {
     "duration": 116.064827,
     "end_time": "2023-09-01T11:02:39.661632",
     "exception": false,
     "start_time": "2023-09-01T11:00:43.596805",
     "status": "completed"
    },
    "tags": []
   },
   "outputs": [
    {
     "name": "stdout",
     "output_type": "stream",
     "text": [
      "10/10 [==============================] - 0s 1ms/step\n",
      "Completed run 1\n",
      "10/10 [==============================] - 0s 1ms/step\n",
      "Completed run 2\n",
      "10/10 [==============================] - 0s 1ms/step\n",
      "Completed run 3\n",
      "10/10 [==============================] - 0s 1ms/step\n",
      "Completed run 4\n",
      "10/10 [==============================] - 0s 1ms/step\n",
      "Completed run 5\n",
      "10/10 [==============================] - 0s 999us/step\n",
      "Completed run 6\n",
      "10/10 [==============================] - 0s 1ms/step\n",
      "Completed run 7\n",
      "10/10 [==============================] - 0s 1ms/step\n",
      "Completed run 8\n",
      "10/10 [==============================] - 0s 1ms/step\n",
      "Completed run 9\n",
      "10/10 [==============================] - 0s 1ms/step\n",
      "Completed run 10\n",
      "10/10 [==============================] - 0s 1ms/step\n",
      "Completed run 11\n",
      "10/10 [==============================] - 0s 1ms/step\n",
      "Completed run 12\n",
      "10/10 [==============================] - 0s 1ms/step\n",
      "Completed run 13\n",
      "10/10 [==============================] - 0s 1ms/step\n",
      "Completed run 14\n",
      "10/10 [==============================] - 0s 1ms/step\n",
      "Completed run 15\n",
      "10/10 [==============================] - 0s 1ms/step\n",
      "Completed run 16\n",
      "10/10 [==============================] - 0s 1ms/step\n",
      "Completed run 17\n",
      "10/10 [==============================] - 0s 1ms/step\n",
      "Completed run 18\n",
      "10/10 [==============================] - 0s 2ms/step\n",
      "Completed run 19\n",
      "10/10 [==============================] - 0s 1ms/step\n",
      "Completed run 20\n",
      "10/10 [==============================] - 0s 906us/step\n",
      "Completed run 21\n",
      "10/10 [==============================] - 0s 2ms/step\n",
      "Completed run 22\n",
      "10/10 [==============================] - 0s 963us/step\n",
      "Completed run 23\n",
      "10/10 [==============================] - 0s 1ms/step\n",
      "Completed run 24\n",
      "10/10 [==============================] - 0s 1ms/step\n",
      "Completed run 25\n",
      "10/10 [==============================] - 0s 895us/step\n",
      "Completed run 26\n",
      "10/10 [==============================] - 0s 1ms/step\n",
      "Completed run 27\n",
      "10/10 [==============================] - 0s 1ms/step\n",
      "Completed run 28\n",
      "10/10 [==============================] - 0s 891us/step\n",
      "Completed run 29\n",
      "10/10 [==============================] - 0s 2ms/step\n",
      "Completed run 30\n",
      "10/10 [==============================] - 0s 1ms/step\n",
      "Completed run 31\n",
      "10/10 [==============================] - 0s 1ms/step\n",
      "Completed run 32\n",
      "10/10 [==============================] - 0s 1ms/step\n",
      "Completed run 33\n",
      "10/10 [==============================] - 0s 1ms/step\n",
      "Completed run 34\n",
      "10/10 [==============================] - 0s 1ms/step\n",
      "Completed run 35\n",
      "10/10 [==============================] - 0s 2ms/step\n",
      "Completed run 36\n",
      "10/10 [==============================] - 0s 1ms/step\n",
      "Completed run 37\n",
      "10/10 [==============================] - 0s 2ms/step\n",
      "Completed run 38\n",
      "10/10 [==============================] - 0s 1ms/step\n",
      "Completed run 39\n",
      "10/10 [==============================] - 0s 1ms/step\n",
      "Completed run 40\n",
      "10/10 [==============================] - 0s 1ms/step\n",
      "Completed run 41\n",
      "10/10 [==============================] - 0s 2ms/step\n",
      "Completed run 42\n",
      "10/10 [==============================] - 0s 1ms/step\n",
      "Completed run 43\n",
      "10/10 [==============================] - 0s 1ms/step\n",
      "Completed run 44\n",
      "10/10 [==============================] - 0s 2ms/step\n",
      "Completed run 45\n",
      "10/10 [==============================] - 0s 1ms/step\n",
      "Completed run 46\n",
      "10/10 [==============================] - 0s 1ms/step\n",
      "Completed run 47\n",
      "10/10 [==============================] - 0s 1ms/step\n",
      "Completed run 48\n",
      "10/10 [==============================] - 0s 1ms/step\n",
      "Completed run 49\n",
      "10/10 [==============================] - 0s 1ms/step\n",
      "Completed run 50\n",
      "The mean of the MSE list is 371.0329819619649\n",
      "The standard deviation of the MSE list is 120.92009358867453\n"
     ]
    }
   ],
   "source": [
    "mse_list = []\n",
    "for i in range(1, 51):\n",
    "    train, test = train_test_split(concrete_data, test_size = .30)\n",
    "    train_predictors = train[train.columns[train.columns != 'Strength']]\n",
    "    n_cols = train_predictors.shape[1]\n",
    "    test_predictors = test[test.columns[test.columns != 'Strength']]\n",
    "    train_target = train[['Strength']]\n",
    "    test_target = test[['Strength']]\n",
    "    train_predictors_norm = (train_predictors - train_predictors.mean())/train_predictors.std()\n",
    "    test_predictors_norm = (test_predictors - test_predictors.mean())/test_predictors.std()\n",
    "    model = regression_model_1()\n",
    "    model.fit(train_predictors_norm, train_target, epochs = 50, verbose = 0)\n",
    "    Yhat = model.predict(test_predictors_norm)\n",
    "    mse_ = mse(Yhat, test_target)\n",
    "    mse_list.append(mse_)\n",
    "    print('Completed run {}'.format(i))\n",
    "\n",
    "print('The mean of the MSE list is {}'.format(statistics.mean(mse_list)))\n",
    "ovr_mean_mse.append(statistics.mean(mse_list))\n",
    "print('The standard deviation of the MSE list is {}'.format(statistics.stdev(mse_list)))\n",
    "ovr_standev_mse.append(statistics.stdev(mse_list))"
   ]
  },
  {
   "cell_type": "markdown",
   "id": "876c5be3",
   "metadata": {
    "papermill": {
     "duration": 0.115534,
     "end_time": "2023-09-01T11:02:39.803024",
     "exception": false,
     "start_time": "2023-09-01T11:02:39.687490",
     "status": "completed"
    },
    "tags": []
   },
   "source": [
    "Now, we'll increase the number of epochs to 100, while repeating the steps above."
   ]
  },
  {
   "cell_type": "code",
   "execution_count": 12,
   "id": "5062d32e",
   "metadata": {
    "execution": {
     "iopub.execute_input": "2023-09-01T11:02:39.856192Z",
     "iopub.status.busy": "2023-09-01T11:02:39.855220Z",
     "iopub.status.idle": "2023-09-01T11:06:11.466898Z",
     "shell.execute_reply": "2023-09-01T11:06:11.465316Z"
    },
    "papermill": {
     "duration": 211.64218,
     "end_time": "2023-09-01T11:06:11.470029",
     "exception": false,
     "start_time": "2023-09-01T11:02:39.827849",
     "status": "completed"
    },
    "tags": []
   },
   "outputs": [
    {
     "name": "stdout",
     "output_type": "stream",
     "text": [
      "10/10 [==============================] - 0s 1ms/step\n",
      "Completed run 1\n",
      "10/10 [==============================] - 0s 2ms/step\n",
      "Completed run 2\n",
      "10/10 [==============================] - 0s 1ms/step\n",
      "Completed run 3\n",
      "10/10 [==============================] - 0s 1ms/step\n",
      "Completed run 4\n",
      "10/10 [==============================] - 0s 1ms/step\n",
      "Completed run 5\n",
      "10/10 [==============================] - 0s 2ms/step\n",
      "Completed run 6\n",
      "10/10 [==============================] - 0s 2ms/step\n",
      "Completed run 7\n",
      "10/10 [==============================] - 0s 1ms/step\n",
      "Completed run 8\n",
      "10/10 [==============================] - 0s 1ms/step\n",
      "Completed run 9\n",
      "10/10 [==============================] - 0s 1ms/step\n",
      "Completed run 10\n",
      "10/10 [==============================] - 0s 962us/step\n",
      "Completed run 11\n",
      "10/10 [==============================] - 0s 1ms/step\n",
      "Completed run 12\n",
      "10/10 [==============================] - 0s 1ms/step\n",
      "Completed run 13\n",
      "10/10 [==============================] - 0s 1ms/step\n",
      "Completed run 14\n",
      "10/10 [==============================] - 0s 2ms/step\n",
      "Completed run 15\n",
      "10/10 [==============================] - 0s 1ms/step\n",
      "Completed run 16\n",
      "10/10 [==============================] - 0s 2ms/step\n",
      "Completed run 17\n",
      "10/10 [==============================] - 0s 1ms/step\n",
      "Completed run 18\n",
      "10/10 [==============================] - 0s 2ms/step\n",
      "Completed run 19\n",
      "10/10 [==============================] - 0s 964us/step\n",
      "Completed run 20\n",
      "10/10 [==============================] - 0s 1ms/step\n",
      "Completed run 21\n",
      "10/10 [==============================] - 0s 956us/step\n",
      "Completed run 22\n",
      "10/10 [==============================] - 0s 1ms/step\n",
      "Completed run 23\n",
      "10/10 [==============================] - 0s 1ms/step\n",
      "Completed run 24\n",
      "10/10 [==============================] - 0s 1ms/step\n",
      "Completed run 25\n",
      "10/10 [==============================] - 0s 2ms/step\n",
      "Completed run 26\n",
      "10/10 [==============================] - 0s 1ms/step\n",
      "Completed run 27\n",
      "10/10 [==============================] - 0s 1ms/step\n",
      "Completed run 28\n",
      "10/10 [==============================] - 0s 1ms/step\n",
      "Completed run 29\n",
      "10/10 [==============================] - 0s 1ms/step\n",
      "Completed run 30\n",
      "10/10 [==============================] - 0s 1ms/step\n",
      "Completed run 31\n",
      "10/10 [==============================] - 0s 2ms/step\n",
      "Completed run 32\n",
      "10/10 [==============================] - 0s 2ms/step\n",
      "Completed run 33\n",
      "10/10 [==============================] - 0s 957us/step\n",
      "Completed run 34\n",
      "10/10 [==============================] - 0s 1ms/step\n",
      "Completed run 35\n",
      "10/10 [==============================] - 0s 1ms/step\n",
      "Completed run 36\n",
      "10/10 [==============================] - 0s 1ms/step\n",
      "Completed run 37\n",
      "10/10 [==============================] - 0s 1ms/step\n",
      "Completed run 38\n",
      "10/10 [==============================] - 0s 1ms/step\n",
      "Completed run 39\n",
      "10/10 [==============================] - 0s 1ms/step\n",
      "Completed run 40\n",
      "10/10 [==============================] - 0s 1ms/step\n",
      "Completed run 41\n",
      "10/10 [==============================] - 0s 1ms/step\n",
      "Completed run 42\n",
      "10/10 [==============================] - 0s 1ms/step\n",
      "Completed run 43\n",
      "10/10 [==============================] - 0s 2ms/step\n",
      "Completed run 44\n",
      "10/10 [==============================] - 0s 982us/step\n",
      "Completed run 45\n",
      "10/10 [==============================] - 0s 1ms/step\n",
      "Completed run 46\n",
      "10/10 [==============================] - 0s 1ms/step\n",
      "Completed run 47\n",
      "10/10 [==============================] - 0s 1ms/step\n",
      "Completed run 48\n",
      "10/10 [==============================] - 0s 2ms/step\n",
      "Completed run 49\n",
      "10/10 [==============================] - 0s 1ms/step\n",
      "Completed run 50\n",
      "The mean of the MSE list is 168.96773301565148\n",
      "The standard deviation of the MSE list is 23.21062617140541\n"
     ]
    }
   ],
   "source": [
    "mse_list = []\n",
    "for i in range(1, 51):\n",
    "    train, test = train_test_split(concrete_data, test_size = .30)\n",
    "    train_predictors = train[train.columns[train.columns != 'Strength']]\n",
    "    n_cols = train_predictors.shape[1]\n",
    "    test_predictors = test[test.columns[test.columns != 'Strength']]\n",
    "    train_target = train[['Strength']]\n",
    "    test_target = test[['Strength']]\n",
    "    train_predictors_norm = (train_predictors - train_predictors.mean())/train_predictors.std()\n",
    "    test_predictors_norm = (test_predictors - test_predictors.mean())/test_predictors.std()\n",
    "    model = regression_model_1()\n",
    "    model.fit(train_predictors_norm, train_target, epochs = 100, verbose = 0)\n",
    "    Yhat = model.predict(test_predictors_norm)\n",
    "    mse_ = mse(Yhat, test_target)\n",
    "    mse_list.append(mse_)\n",
    "    print('Completed run {}'.format(i))\n",
    "    \n",
    "print('The mean of the MSE list is {}'.format(statistics.mean(mse_list)))\n",
    "ovr_mean_mse.append(statistics.mean(mse_list))\n",
    "print('The standard deviation of the MSE list is {}'.format(statistics.stdev(mse_list)))\n",
    "ovr_standev_mse.append(statistics.stdev(mse_list))"
   ]
  },
  {
   "cell_type": "markdown",
   "id": "02c28b57",
   "metadata": {
    "papermill": {
     "duration": 0.036148,
     "end_time": "2023-09-01T11:06:11.542922",
     "exception": false,
     "start_time": "2023-09-01T11:06:11.506774",
     "status": "completed"
    },
    "tags": []
   },
   "source": [
    "Now, we'll introduce **2** additional hidden layers to the NN, each with 10 nodes, and repeat the same steps, above, while keeping the number of training epochs at 50."
   ]
  },
  {
   "cell_type": "code",
   "execution_count": 13,
   "id": "382c9b60",
   "metadata": {
    "execution": {
     "iopub.execute_input": "2023-09-01T11:06:11.616118Z",
     "iopub.status.busy": "2023-09-01T11:06:11.614868Z",
     "iopub.status.idle": "2023-09-01T11:06:11.621627Z",
     "shell.execute_reply": "2023-09-01T11:06:11.619978Z"
    },
    "papermill": {
     "duration": 0.046251,
     "end_time": "2023-09-01T11:06:11.624298",
     "exception": false,
     "start_time": "2023-09-01T11:06:11.578047",
     "status": "completed"
    },
    "tags": []
   },
   "outputs": [],
   "source": [
    "def regression_model_2():\n",
    "    # create model\n",
    "    model = Sequential()\n",
    "    model.add(Dense(10, activation='relu', input_shape=(n_cols,)))\n",
    "    model.add(Dense(10, activation='relu'))\n",
    "    model.add(Dense(10, activation='relu'))\n",
    "    model.add(Dense(1))\n",
    "    \n",
    "    # compile model\n",
    "    model.compile(optimizer='adam', loss='mean_squared_error')\n",
    "    return model"
   ]
  },
  {
   "cell_type": "code",
   "execution_count": 14,
   "id": "784f0721",
   "metadata": {
    "execution": {
     "iopub.execute_input": "2023-09-01T11:06:11.696547Z",
     "iopub.status.busy": "2023-09-01T11:06:11.696092Z",
     "iopub.status.idle": "2023-09-01T11:08:41.796442Z",
     "shell.execute_reply": "2023-09-01T11:08:41.794462Z"
    },
    "papermill": {
     "duration": 150.138846,
     "end_time": "2023-09-01T11:08:41.798757",
     "exception": false,
     "start_time": "2023-09-01T11:06:11.659911",
     "status": "completed"
    },
    "tags": []
   },
   "outputs": [
    {
     "name": "stdout",
     "output_type": "stream",
     "text": [
      "10/10 [==============================] - 0s 2ms/step\n",
      "Completed run 1\n",
      "10/10 [==============================] - 0s 1ms/step\n",
      "Completed run 2\n",
      "10/10 [==============================] - 0s 2ms/step\n",
      "Completed run 3\n",
      "10/10 [==============================] - 0s 2ms/step\n",
      "Completed run 4\n",
      "10/10 [==============================] - 0s 2ms/step\n",
      "Completed run 5\n",
      "10/10 [==============================] - 0s 1ms/step\n",
      "Completed run 6\n",
      "10/10 [==============================] - 0s 1ms/step\n",
      "Completed run 7\n",
      "10/10 [==============================] - 0s 1ms/step\n",
      "Completed run 8\n",
      "10/10 [==============================] - 0s 1ms/step\n",
      "Completed run 9\n",
      "10/10 [==============================] - 0s 1ms/step\n",
      "Completed run 10\n",
      "10/10 [==============================] - 0s 1ms/step\n",
      "Completed run 11\n",
      "10/10 [==============================] - 0s 2ms/step\n",
      "Completed run 12\n",
      "10/10 [==============================] - 0s 1ms/step\n",
      "Completed run 13\n",
      "10/10 [==============================] - 0s 1ms/step\n",
      "Completed run 14\n",
      "10/10 [==============================] - 0s 1ms/step\n",
      "Completed run 15\n",
      "10/10 [==============================] - 0s 2ms/step\n",
      "Completed run 16\n",
      "10/10 [==============================] - 0s 1ms/step\n",
      "Completed run 17\n",
      "10/10 [==============================] - 0s 1ms/step\n",
      "Completed run 18\n",
      "10/10 [==============================] - 0s 2ms/step\n",
      "Completed run 19\n",
      "10/10 [==============================] - 0s 1ms/step\n",
      "Completed run 20\n",
      "10/10 [==============================] - 0s 1ms/step\n",
      "Completed run 21\n",
      "10/10 [==============================] - 0s 1ms/step\n",
      "Completed run 22\n",
      "10/10 [==============================] - 0s 1ms/step\n",
      "Completed run 23\n",
      "10/10 [==============================] - 0s 1ms/step\n",
      "Completed run 24\n",
      "10/10 [==============================] - 0s 1ms/step\n",
      "Completed run 25\n",
      "10/10 [==============================] - 0s 1ms/step\n",
      "Completed run 26\n",
      "10/10 [==============================] - 0s 2ms/step\n",
      "Completed run 27\n",
      "10/10 [==============================] - 0s 2ms/step\n",
      "Completed run 28\n",
      "10/10 [==============================] - 0s 1ms/step\n",
      "Completed run 29\n",
      "10/10 [==============================] - 0s 2ms/step\n",
      "Completed run 30\n",
      "10/10 [==============================] - 0s 2ms/step\n",
      "Completed run 31\n",
      "10/10 [==============================] - 0s 1ms/step\n",
      "Completed run 32\n",
      "10/10 [==============================] - 0s 2ms/step\n",
      "Completed run 33\n",
      "10/10 [==============================] - 0s 2ms/step\n",
      "Completed run 34\n",
      "10/10 [==============================] - 0s 2ms/step\n",
      "Completed run 35\n",
      "10/10 [==============================] - 0s 1ms/step\n",
      "Completed run 36\n",
      "10/10 [==============================] - 0s 1ms/step\n",
      "Completed run 37\n",
      "10/10 [==============================] - 0s 1ms/step\n",
      "Completed run 38\n",
      "10/10 [==============================] - 0s 2ms/step\n",
      "Completed run 39\n",
      "10/10 [==============================] - 0s 1ms/step\n",
      "Completed run 40\n",
      "10/10 [==============================] - 0s 2ms/step\n",
      "Completed run 41\n",
      "10/10 [==============================] - 0s 1ms/step\n",
      "Completed run 42\n",
      "10/10 [==============================] - 0s 1ms/step\n",
      "Completed run 43\n",
      "10/10 [==============================] - 0s 1ms/step\n",
      "Completed run 44\n",
      "10/10 [==============================] - 0s 1ms/step\n",
      "Completed run 45\n",
      "10/10 [==============================] - 0s 1ms/step\n",
      "Completed run 46\n",
      "10/10 [==============================] - 0s 2ms/step\n",
      "Completed run 47\n",
      "10/10 [==============================] - 0s 1ms/step\n",
      "Completed run 48\n",
      "10/10 [==============================] - 0s 1ms/step\n",
      "Completed run 49\n",
      "10/10 [==============================] - 0s 2ms/step\n",
      "Completed run 50\n",
      "The mean of the MSE list is 127.90421511056333\n",
      "The standard deviation of the MSE list is 15.00620569433037\n"
     ]
    }
   ],
   "source": [
    "mse_list = []\n",
    "for i in range(1, 51):\n",
    "    train, test = train_test_split(concrete_data, test_size = .30)\n",
    "    train_predictors = train[train.columns[train.columns != 'Strength']]\n",
    "    n_cols = train_predictors.shape[1]\n",
    "    test_predictors = test[test.columns[test.columns != 'Strength']]\n",
    "    train_target = train[['Strength']]\n",
    "    test_target = test[['Strength']]\n",
    "    train_predictors_norm = (train_predictors - train_predictors.mean())/train_predictors.std()\n",
    "    test_predictors_norm = (test_predictors - test_predictors.mean())/test_predictors.std()\n",
    "    model = regression_model_2()\n",
    "    model.fit(train_predictors_norm, train_target, epochs = 50, verbose = 0)\n",
    "    Yhat = model.predict(test_predictors_norm)\n",
    "    mse_ = mse(Yhat, test_target)\n",
    "    mse_list.append(mse_)\n",
    "    print('Completed run {}'.format(i))\n",
    "\n",
    "print('The mean of the MSE list is {}'.format(statistics.mean(mse_list)))\n",
    "ovr_mean_mse.append(statistics.mean(mse_list))\n",
    "print('The standard deviation of the MSE list is {}'.format(statistics.stdev(mse_list)))\n",
    "ovr_standev_mse.append(statistics.stdev(mse_list))"
   ]
  },
  {
   "cell_type": "code",
   "execution_count": 15,
   "id": "2f7bc5f7",
   "metadata": {
    "execution": {
     "iopub.execute_input": "2023-09-01T11:08:41.886230Z",
     "iopub.status.busy": "2023-09-01T11:08:41.885801Z",
     "iopub.status.idle": "2023-09-01T11:08:42.117980Z",
     "shell.execute_reply": "2023-09-01T11:08:42.116633Z"
    },
    "papermill": {
     "duration": 0.279058,
     "end_time": "2023-09-01T11:08:42.120919",
     "exception": false,
     "start_time": "2023-09-01T11:08:41.841861",
     "status": "completed"
    },
    "tags": []
   },
   "outputs": [
    {
     "data": {
      "image/png": "[encoded data removed]",
      "text/plain": [
       "<Figure size 640x480 with 1 Axes>"
      ]
     },
     "metadata": {},
     "output_type": "display_data"
    }
   ],
   "source": [
    "iteration_list = ['1st', '2nd', '3rd', '4th']\n",
    "plt.bar(iteration_list, ovr_mean_mse)\n",
    "plt.errorbar(iteration_list, ovr_mean_mse, yerr=ovr_standev_mse, fmt='o', color='black')\n",
    "plt.title('Overall MSE from each iteration, with stand-dev as error bars')\n",
    "plt.xlabel('Iteration')\n",
    "plt.ylabel('Overall Mean from Iteration')\n",
    "plt.show()"
   ]
  },
  {
   "cell_type": "markdown",
   "id": "ab487812",
   "metadata": {
    "papermill": {
     "duration": 0.043899,
     "end_time": "2023-09-01T11:08:42.209464",
     "exception": false,
     "start_time": "2023-09-01T11:08:42.165565",
     "status": "completed"
    },
    "tags": []
   },
   "source": [
    "To summarize, in comparison to the first iteration, the second showed a similar mean, but a much reduced standard deviation. The subsequent iterations showed both much reduced mean and standard deviation, with the final iteration showing the least standard deviation."
   ]
  }
 ],
 "kernelspec": {
  "display_name": "Python 3",
  "language": "python",
  "name": "python3"
 },
 "language_info": {
  "codemirror_mode": {
   "name": "ipython",
   "version": 3
  },
  "file_extension": ".py",
  "mimetype": "text/x-python",
  "name": "python",
  "nbconvert_exporter": "python",
  "pygments_lexer": "ipython3",
  "version": "3.6.4"
 },
 "metadata": {
  "kernelspec": {
   "display_name": "Python 3",
   "language": "python",
   "name": "python3"
  },
  "language_info": {
   "codemirror_mode": {
    "name": "ipython",
    "version": 3
   },
   "file_extension": ".py",
   "mimetype": "text/x-python",
   "name": "python",
   "nbconvert_exporter": "python",
   "pygments_lexer": "ipython3",
   "version": "3.10.12"
  },
  "papermill": {
   "default_parameters": {},
   "duration": 619.379591,
   "end_time": "2023-09-01T11:08:44.382531",
   "environment_variables": {},
   "exception": null,
   "input_path": "__notebook__.ipynb",
   "output_path": "__notebook__.ipynb",
   "parameters": {},
   "start_time": "2023-09-01T10:58:25.002940",
   "version": "2.4.0"
  }
 },
 "nbformat": 4,
 "nbformat_minor": 5
}
